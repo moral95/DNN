{
 "cells": [
  {
   "attachments": {},
   "cell_type": "markdown",
   "metadata": {},
   "source": [
    "[Overview]\n",
    "\n",
    "1. 라이브러리 설정\n",
    "2. HyperParameter 설정\n",
    "3. GPU 설정\n",
    "4. Data 준비(Data 불러오기, Data 전처리, Tokenizing)\n",
    "5. 모델 설계\n",
    "6. 모델 훈련 (Training)\n",
    "7. 모델 검증 (Testing)"
   ]
  },
  {
   "cell_type": "code",
   "execution_count": 4,
   "metadata": {},
   "outputs": [
    {
     "name": "stdout",
     "output_type": "stream",
     "text": [
      "Pytorch version: 2.0.1\n"
     ]
    }
   ],
   "source": [
    "# 1. 라이브러리 설정\n",
    "import torch\n",
    "import torch.nn as nn\n",
    "import torch.nn.functional as F\n",
    "import torch.optim as optim \n",
    "from torch.utils.data import DataLoader \n",
    "from tqdm.notebook import tqdm \n",
    "import matplotlib.pyplot as plt\n",
    "\n",
    "try:\n",
    "    %tensorflow_version 2.x\n",
    "except Exception:\n",
    "    pass\n",
    "\n",
    "\n",
    "import tensorflow as tf \n",
    "import numpy as np\n",
    "import pandas as pd\n",
    "from tensorflow.keras.preprocessing.text import Tokenizer\n",
    "from tensorflow.keras.preprocessing.sequence import pad_sequences\n",
    "import urllib.request\n",
    "print(f'Pytorch version: {torch.__version__}')\n",
    "import os"
   ]
  },
  {
   "cell_type": "code",
   "execution_count": 5,
   "metadata": {},
   "outputs": [
    {
     "name": "stdout",
     "output_type": "stream",
     "text": [
      "tensor([[0.3936, 0.5584, 0.9692]])\n",
      "훈련용 리뷰 개수 : 149995\n",
      "테스트용 리뷰 개수 : 49997\n",
      "              id                                           document  label\n",
      "0        9976970                                아 더빙.. 진짜 짜증나네요 목소리      0\n",
      "1        3819312                  흠...포스터보고 초딩영화줄....오버연기조차 가볍지 않구나      1\n",
      "2       10265843                                  너무재밓었다그래서보는것을추천한다      0\n",
      "3        9045019                      교도소 이야기구먼 ..솔직히 재미는 없다..평점 조정      0\n",
      "4        6483659  사이몬페그의 익살스런 연기가 돋보였던 영화!스파이더맨에서 늙어보이기만 했던 커스틴 ...      1\n",
      "...          ...                                                ...    ...\n",
      "149995   6222902                                인간이 문제지.. 소는 뭔죄인가..      0\n",
      "149996   8549745                                      평점이 너무 낮아서...      1\n",
      "149997   9311800                    이게 뭐요? 한국인은 거들먹거리고 필리핀 혼혈은 착하다?      0\n",
      "149998   2376369                        청춘 영화의 최고봉.방황과 우울했던 날들의 자화상      1\n",
      "149999   9619869                           한국 영화 최초로 수간하는 내용이 담긴 영화      0\n",
      "\n",
      "[149995 rows x 3 columns]\n"
     ]
    }
   ],
   "source": [
    "# 2. HyperParameter\n",
    "batch_size = 64\n",
    "lr = 1e-4\n",
    "epochs = 10\n",
    "model_name = \"RNN\"\n",
    "vocab_length = 7000\n",
    "num_layers = 3\n",
    "hidden_size = 256\n",
    "num_classes = 2\n",
    "embedding_size = 256\n",
    "dropout = 0.1\n",
    "\n",
    "\n",
    "#seed\n",
    "random_seed = 9712\n",
    "torch.manual_seed(random_seed)\n",
    "torch.backends.cudnn.enabled = False\n",
    "print(torch.randn(1, 3))\n",
    "\n",
    "# 3. GPU 설정\n",
    "device = torch.device('cuda:2' if torch.cuda.is_available() else 'cpu')\n",
    "\n",
    "# 4. Data 준비\n",
    "train_data = pd.read_csv(\"https://raw.githubusercontent.com/e9t/nsmc/master/ratings_train.txt\", delimiter='\\t').dropna()\n",
    "test_data = pd.read_csv(\"https://raw.githubusercontent.com/e9t/nsmc/master/ratings_test.txt\", delimiter='\\t').dropna()\n",
    "print('훈련용 리뷰 개수 :',len(train_data))\n",
    "print('테스트용 리뷰 개수 :',len(test_data))\n",
    "print(train_data)\n",
    "# 깃허브 내에 train, test data 가져오는건데, read_csv 기능 중 delimiter. dropna를 모르겠음\n"
   ]
  },
  {
   "cell_type": "code",
   "execution_count": 6,
   "metadata": {},
   "outputs": [
    {
     "name": "stdout",
     "output_type": "stream",
     "text": [
      "[Text]\n",
      "0                                       아 더빙.. 진짜 짜증나네요 목소리\n",
      "1                         흠...포스터보고 초딩영화줄....오버연기조차 가볍지 않구나\n",
      "2                                         너무재밓었다그래서보는것을추천한다\n",
      "3                             교도소 이야기구먼 ..솔직히 재미는 없다..평점 조정\n",
      "4         사이몬페그의 익살스런 연기가 돋보였던 영화!스파이더맨에서 늙어보이기만 했던 커스틴 ...\n",
      "                                ...                        \n",
      "149995                                  인간이 문제지.. 소는 뭔죄인가..\n",
      "149996                                        평점이 너무 낮아서...\n",
      "149997                      이게 뭐요? 한국인은 거들먹거리고 필리핀 혼혈은 착하다?\n",
      "149998                          청춘 영화의 최고봉.방황과 우울했던 날들의 자화상\n",
      "149999                             한국 영화 최초로 수간하는 내용이 담긴 영화\n",
      "Name: document, Length: 149995, dtype: object\n",
      "\n",
      "[Label]\n",
      "0         0\n",
      "1         1\n",
      "2         0\n",
      "3         0\n",
      "4         1\n",
      "         ..\n",
      "149995    0\n",
      "149996    1\n",
      "149997    0\n",
      "149998    1\n",
      "149999    0\n",
      "Name: label, Length: 149995, dtype: int64\n"
     ]
    }
   ],
   "source": [
    "# 4-1. text, label 나누기.\n",
    "train_text, train_label = train_data.iloc[:, 1], train_data.iloc[:, 2]\n",
    "# train_text, train_label = train_data.iloc[:, 1], train_data.iloc[:, 2]\n",
    "test_text, test_label = test_data.iloc[:, 1], test_data.iloc[:, 2]\n",
    "# 3개의 column 으로 나뉘는데, 그중 2번째, 3번째 추출\n",
    "# df.iloc[행 인덱스,. 열 인덱스], 행을 전체 가져오고, 열은 몇개만 추출\n",
    "# column 2번째는 text, 3번째는 label\n",
    "\n",
    "print(\"[Text]\")\n",
    "print(train_text)\n",
    "print()\n",
    "print(\"[Label]\")\n",
    "print(train_label)\n",
    "\n",
    "#pd.read_csv의 iloc 기능을 가져오는 것 같음 "
   ]
  },
  {
   "cell_type": "code",
   "execution_count": 14,
   "metadata": {},
   "outputs": [
    {
     "name": "stdout",
     "output_type": "stream",
     "text": [
      "문장: 아 더빙.. 진짜 짜증나네요 목소리\n",
      "문장: 흠...포스터보고 초딩영화줄....오버연기조차 가볍지 않구나\n",
      "텍스트 정제 후: 아 더빙 진짜 짜증나네요 목소리\n",
      "띄어쓰기 단위로 분리 후: ['아', '더빙', '진짜', '짜증나네요', '목소리']\n",
      "None\n",
      "Tokenizer 후: [26, 898, 8, 6750, 1094]\n"
     ]
    },
    {
     "data": {
      "image/png": "[encoded data removed]",
      "text/plain": [
       "<Figure size 640x480 with 1 Axes>"
      ]
     },
     "metadata": {},
     "output_type": "display_data"
    },
    {
     "name": "stdout",
     "output_type": "stream",
     "text": [
      "Padding 후: [  26  898    8 6750 1094    0    0    0    0    0    0    0    0    0\n",
      "    0]\n"
     ]
    }
   ],
   "source": [
    "# 4-2. Tokenizing\n",
    "# Tokenizing을 위한 text 정제 작업\n",
    "import re\n",
    "def clean_str(string): #clean_str, string는 임의 변수\n",
    "    # From https://github.com/yoonkim/CNN_sentence/blob/master/process_data.py\n",
    "    string = re.sub(r\"[^가-힣A-Za-z0-9(),!?\\'\\`]\", \" \", string) \n",
    "    string = re.sub(r\"\\'s\", \" \\'s\", string)\n",
    "    string = re.sub(r\"\\'ve\", \" \\'ve\", string)\n",
    "    string = re.sub(r\"n\\'t\", \" n\\'t\", string)\n",
    "    string = re.sub(r\"\\'re\", \" \\'re\", string)\n",
    "    string = re.sub(r\"\\'d\", \" \\'d\", string)\n",
    "    string = re.sub(r\"\\'ll\", \" \\'ll\", string)\n",
    "    string = re.sub(r\",\", \" , \", string)\n",
    "    string = re.sub(r\"!\", \" ! \", string)\n",
    "    string = re.sub(r\"\\(\", \" \\( \", string)\n",
    "    string = re.sub(r\"\\)\", \" \\) \", string)\n",
    "    string = re.sub(r\"\\?\", \" \\? \", string)\n",
    "    string = re.sub(r\"\\s{2,}\", \" \", string)\n",
    "    string = re.sub(r\"\\'{2,}\", \"\\'\", string)\n",
    "    string = re.sub(r\"\\'\", \"\", string)\n",
    "    return string.lower()\n",
    "# 왜 이러는 지 이해 못하겠음. 전처리 단계 확인해보도록 해야겠음\n",
    "# 단어 끊는 기준인거 같은데, import re가 무슨 기능이고, sub가 무슨 내용인지 모르겠음.\n",
    "\n",
    "print(\"문장:\", train_text[0])\n",
    "print(\"문장:\", train_text[1])\n",
    "\n",
    "#텍스트 정제 작업\n",
    "train_x = [clean_str(x) for x in train_text]\n",
    "test_x = [clean_str(x) for x in test_text]\n",
    "print(\"텍스트 정제 후:\", train_x[0])\n",
    "\n",
    "#문장을 띄어쓰기 단위로 분리\n",
    "train_x = [x.split(' ') for x in train_x]\n",
    "test_x = [x.split(' ') for x in test_x]\n",
    "print(\"띄어쓰기 단위로 분리 후:\", train_x[0])\n",
    "# train text의 x를 반복하여서 clean str안에 넣어 정리할 것을 train_x로 말함.\n",
    "# split이 분리함.\n",
    "\n",
    "#Tokenizer 만들기\n",
    "tokenizer = Tokenizer(num_words = vocab_length) \n",
    "tokenizer.fit_on_texts(train_x)\n",
    "# 위에서 토크나이저 클래스 불러와서 사용. 각 문장의 최대 길이를 정의. num_words는 tokenizer에 담겨져 있다.\n",
    "# 토크나이저 기능 중 fit_on_texts를 사용하는데 그 안에 train_x를 담는다.(아마 함수 기능)\n",
    "# 케라스 기능으로 나오는 fit_on_texts이다. 각 단어를 빈도수 순으로 정렬 후, 빈도수가 높은 순서대로 차례대로 낮은 숫자부터 부여 방법\n",
    "# 그래서 출력해서 보여준다.\n",
    "\n",
    "#Tokenizer \n",
    "train_x = tokenizer.texts_to_sequences(train_x)\n",
    "test_x = tokenizer.texts_to_sequences(test_x)\n",
    "print(\"Tokenizer 후:\", train_x[0])\n",
    "# 다시 토크나이저 기능 중의 texts to sequences 기능을 사용해서 정리한다.\n",
    "# split 대로 풀고, 다시 문장으로 정리.\n",
    "\n",
    "# max len \n",
    "plt.hist([len(review) for review in train_x], bins=50)\n",
    "plt.xlabel('length of samples')\n",
    "plt.ylabel('number of samples')\n",
    "plt.show()\n",
    "# 이건 그래프 출력하는 건데... train_x 안의 review라는 임의 내용을 담아서 정리. hist의 bins는 뭔가\n",
    "# 한 샘플의 길이마다 개수 보여줌\n",
    "\n",
    "#Padding\n",
    "train_x = pad_sequences(train_x, padding='post',maxlen=15)\n",
    "test_x = pad_sequences(test_x, padding='post', maxlen=15) #훈련 데이터 중 max_length로 padding된다. \n",
    "print(\"Padding 후:\", train_x[0])\n",
    "# train_x 를 다시 pad_sequences 기능으로 padding을 걸어준다. 시퀀스 길이는 maxlen 15개이다.\n",
    "# 패딩을 뒤에다 걸고 싶으면 post 넣어준다."
   ]
  },
  {
   "cell_type": "code",
   "execution_count": 8,
   "metadata": {},
   "outputs": [
    {
     "name": "stdout",
     "output_type": "stream",
     "text": [
      "26: 아\n",
      "898: 더빙\n",
      "8: 진짜\n",
      "1094: 목소리\n"
     ]
    }
   ],
   "source": [
    "print(\"26:\", tokenizer.index_word[26])\n",
    "print(\"898:\", tokenizer.index_word[898])\n",
    "print(\"8:\", tokenizer.index_word[8])\n",
    "print(\"1094:\", tokenizer.index_word[1094])"
   ]
  },
  {
   "cell_type": "code",
   "execution_count": 9,
   "metadata": {},
   "outputs": [
    {
     "name": "stdout",
     "output_type": "stream",
     "text": [
      "[Dataset] train: 149995, test: 49997\n",
      "[DataLoader] train: 2344, test: 49997\n"
     ]
    }
   ],
   "source": [
    "from torch.utils.data import DataLoader, Dataset\n",
    "\n",
    "class MyDataset(Dataset):\n",
    "    def __init__(self, datas, labels):\n",
    "        self.datas = datas\n",
    "        self.labels = labels\n",
    "    def __getitem__(self, idx):\n",
    "        x = self.datas[idx]\n",
    "        y = self.labels[idx]\n",
    "        return x, y\n",
    "    def __len__(self):\n",
    "        return len(self.labels)\n",
    "\n",
    "train_y = np.array(train_label)\n",
    "train_dataset = MyDataset(train_x, train_y)\n",
    "train_dataloader = DataLoader(train_dataset, batch_size = batch_size, shuffle = True )\n",
    "\n",
    "test_y = np.array(test_label)\n",
    "test_dataset = MyDataset(test_x, test_y)\n",
    "test_dataloader = DataLoader(test_dataset, batch_size = 1, shuffle = False)\n",
    "\n",
    "\n",
    "print(f\"[Dataset] train: {len(train_dataset)}, test: {len(test_dataset)}\")\n",
    "print(f\"[DataLoader] train: {len(train_dataloader)}, test: {len(test_dataloader)}\")"
   ]
  },
  {
   "cell_type": "code",
   "execution_count": 10,
   "metadata": {},
   "outputs": [],
   "source": [
    "# 5. Model 설계\n",
    "class RNN(nn.Module):\n",
    "    def __init__(self, vocab_length, embedding_size, hidden_size, num_layers, num_classes, dropout):  # 나중에 내가 RNN 모델 부를때 쓰는 변수들을 \n",
    "        super(RNN, self).__init__()\n",
    "        print(\"Model=RNN\")\n",
    "        self.embedding_layer = nn.Embedding(vocab_length, embedding_size, padding_idx =0) #입력 문장을 벡터화 시킨다 \n",
    "        self.rnn = nn.RNN(input_size=embedding_size,  hidden_size=hidden_size, num_layers=num_layers,  batch_first= True,  dropout=dropout)\n",
    "        self.classifier_linear = nn.Linear(hidden_size, num_classes)\n",
    "\n",
    "    \n",
    "    def forward(self, x):\n",
    "        embed = self.embedding_layer(x)\n",
    "        rnn_output, _ = self.rnn(embed)\n",
    "        cut_output = rnn_output[:, -1, :]\n",
    "        cla_output = self.classifier_linear(cut_output)\n",
    "        return cla_output\n",
    "        \"\"\"\n",
    "        x = (batch_size, max_len)\n",
    "        embed = (batch_size, max_len, embedding_size)\n",
    "        rnn_output =  (batch_size, max_len, hidden_size)\n",
    "        cut_output = (batch_size, hidden_size)\n",
    "        cla_output =  (batch_size, num_classes)\n",
    "        \"\"\"\n",
    "\n",
    "class LSTM(nn.Module):\n",
    "    def __init__(self, vocab_length, embedding_size, hidden_size, num_layers, num_classes, dropout):  \n",
    "        super(LSTM, self).__init__()\n",
    "        print(\"Model=LSTM\")\n",
    "        self.embedding_layer = nn.Embedding(vocab_length, hidden_size, padding_idx =0) \n",
    "        self.lstm = nn.LSTM(input_size=embedding_size, hidden_size=hidden_size, num_layers=num_layers,  batch_first= True,  dropout=dropout)\n",
    "        self.classifier_linear = nn.Linear(hidden_size, num_classes)\n",
    "\n",
    "\n",
    "    def forward(self, x):\n",
    "        embed = self.embedding_layer(x)\n",
    "        lstm_output, _ = self.lstm(embed)\n",
    "        cut_output = lstm_output[:, -1, :]\n",
    "        cla_output = self.classifier_linear(cut_output)\n",
    "        return cla_output\n",
    "        \"\"\"\n",
    "        x = (batch_size, max_len)\n",
    "        embed = (batch_size, max_len, embedding_size)\n",
    "        lstm_output =  (batch_size, max_len, hidden_size)\n",
    "        cut_output = (batch_size, hidden_size)\n",
    "        cla_output =  (batch_size, num_classes)\n",
    "        \"\"\"\n",
    "\n",
    "\n",
    "class GRU(nn.Module):\n",
    "    def __init__(self, vocab_length, embedding_size, hidden_size, num_layers, num_classes, dropout):  \n",
    "        super(GRU, self).__init__()\n",
    "        print(\"Model=GRU\")\n",
    "        self.embedding_layer = nn.Embedding(vocab_length, hidden_size, padding_idx =0) \n",
    "        self.gru = nn.GRU(input_size=embedding_size, hidden_size=hidden_size, num_layers=num_layers,  batch_first= True,  dropout=dropout)\n",
    "        self.classifier_linear = nn.Linear(hidden_size, num_classes)\n",
    "    \n",
    "    def forward(self, x):\n",
    "        embed = self.embedding_layer(x)\n",
    "        lstm_output, _ = self.gru(embed)\n",
    "        cut_output = lstm_output[:, -1, :]\n",
    "        cla_output = self.classifier_linear(cut_output)\n",
    "        return cla_output\n",
    "        \"\"\"\n",
    "        x = (batch_size, max_len)\n",
    "        embed = (batch_size, max_len, embedding_size)\n",
    "        lstm_output =  (batch_size, max_len, hidden_size)\n",
    "        cut_output = (batch_size, hidden_size)\n",
    "        cla_output =  (batch_size, num_classes)\n",
    "        \"\"\"\n"
   ]
  },
  {
   "cell_type": "code",
   "execution_count": 11,
   "metadata": {},
   "outputs": [
    {
     "name": "stdout",
     "output_type": "stream",
     "text": [
      "Model=RNN\n"
     ]
    }
   ],
   "source": [
    "if model_name == \"RNN\":\n",
    "    model = RNN(vocab_length, embedding_size, hidden_size, num_layers, num_classes, dropout)\n",
    "elif model_name == \"LSTM\":\n",
    "    model = LSTM(vocab_length, embedding_size, hidden_size, num_layers, num_classes, dropout)\n",
    "elif model_name == \"GRU\":\n",
    "    model = GRU(vocab_length, embedding_size, hidden_size, num_layers, num_classes, dropout)\n",
    "\n",
    "model = model.to(device)"
   ]
  },
  {
   "cell_type": "code",
   "execution_count": 12,
   "metadata": {},
   "outputs": [
    {
     "data": {
      "application/vnd.jupyter.widget-view+json": {
       "model_id": "dfef001fe96e4e8e878c76236fdeb2ad",
       "version_major": 2,
       "version_minor": 0
      },
      "text/plain": [
       "  0%|          | 0/2344 [00:00<?, ?it/s]"
      ]
     },
     "metadata": {},
     "output_type": "display_data"
    },
    {
     "name": "stdout",
     "output_type": "stream",
     "text": [
      "epoch:1/10 loss: 0.596629024\n"
     ]
    },
    {
     "data": {
      "application/vnd.jupyter.widget-view+json": {
       "model_id": "c6d1d07bdd2a4c4cb4912e7ffb1dcfc2",
       "version_major": 2,
       "version_minor": 0
      },
      "text/plain": [
       "  0%|          | 0/2344 [00:00<?, ?it/s]"
      ]
     },
     "metadata": {},
     "output_type": "display_data"
    },
    {
     "name": "stdout",
     "output_type": "stream",
     "text": [
      "epoch:2/10 loss: 0.516893309\n"
     ]
    },
    {
     "data": {
      "application/vnd.jupyter.widget-view+json": {
       "model_id": "fabc6ac260764c968a231180eae2ec72",
       "version_major": 2,
       "version_minor": 0
      },
      "text/plain": [
       "  0%|          | 0/2344 [00:00<?, ?it/s]"
      ]
     },
     "metadata": {},
     "output_type": "display_data"
    },
    {
     "name": "stdout",
     "output_type": "stream",
     "text": [
      "epoch:3/10 loss: 0.474280437\n"
     ]
    },
    {
     "data": {
      "application/vnd.jupyter.widget-view+json": {
       "model_id": "dc034ec1df1a49efacf9a9397aa7eb77",
       "version_major": 2,
       "version_minor": 0
      },
      "text/plain": [
       "  0%|          | 0/2344 [00:00<?, ?it/s]"
      ]
     },
     "metadata": {},
     "output_type": "display_data"
    },
    {
     "name": "stdout",
     "output_type": "stream",
     "text": [
      "epoch:4/10 loss: 0.444666003\n"
     ]
    },
    {
     "data": {
      "application/vnd.jupyter.widget-view+json": {
       "model_id": "0d38ad07cee24485a0afcf87f6f8a4c4",
       "version_major": 2,
       "version_minor": 0
      },
      "text/plain": [
       "  0%|          | 0/2344 [00:00<?, ?it/s]"
      ]
     },
     "metadata": {},
     "output_type": "display_data"
    },
    {
     "name": "stdout",
     "output_type": "stream",
     "text": [
      "epoch:5/10 loss: 0.423796289\n"
     ]
    },
    {
     "data": {
      "application/vnd.jupyter.widget-view+json": {
       "model_id": "5e767c07a52f40a788b862d4e1db3495",
       "version_major": 2,
       "version_minor": 0
      },
      "text/plain": [
       "  0%|          | 0/2344 [00:00<?, ?it/s]"
      ]
     },
     "metadata": {},
     "output_type": "display_data"
    },
    {
     "name": "stdout",
     "output_type": "stream",
     "text": [
      "epoch:6/10 loss: 0.408085572\n"
     ]
    },
    {
     "data": {
      "application/vnd.jupyter.widget-view+json": {
       "model_id": "3d80c79486714de79b841fc26c7e630f",
       "version_major": 2,
       "version_minor": 0
      },
      "text/plain": [
       "  0%|          | 0/2344 [00:00<?, ?it/s]"
      ]
     },
     "metadata": {},
     "output_type": "display_data"
    },
    {
     "name": "stdout",
     "output_type": "stream",
     "text": [
      "epoch:7/10 loss: 0.393218837\n"
     ]
    },
    {
     "data": {
      "application/vnd.jupyter.widget-view+json": {
       "model_id": "20f5190680824e0abe2c1135d6d15a98",
       "version_major": 2,
       "version_minor": 0
      },
      "text/plain": [
       "  0%|          | 0/2344 [00:00<?, ?it/s]"
      ]
     },
     "metadata": {},
     "output_type": "display_data"
    },
    {
     "name": "stdout",
     "output_type": "stream",
     "text": [
      "epoch:8/10 loss: 0.381268196\n"
     ]
    },
    {
     "data": {
      "application/vnd.jupyter.widget-view+json": {
       "model_id": "99b4ecc98be44fa49c07f39b0bc05d12",
       "version_major": 2,
       "version_minor": 0
      },
      "text/plain": [
       "  0%|          | 0/2344 [00:00<?, ?it/s]"
      ]
     },
     "metadata": {},
     "output_type": "display_data"
    },
    {
     "name": "stdout",
     "output_type": "stream",
     "text": [
      "epoch:9/10 loss: 0.370143506\n"
     ]
    },
    {
     "data": {
      "application/vnd.jupyter.widget-view+json": {
       "model_id": "f498990df5f34efb88ad8cd0ff4ab01d",
       "version_major": 2,
       "version_minor": 0
      },
      "text/plain": [
       "  0%|          | 0/2344 [00:00<?, ?it/s]"
      ]
     },
     "metadata": {},
     "output_type": "display_data"
    },
    {
     "name": "stdout",
     "output_type": "stream",
     "text": [
      "epoch:10/10 loss: 0.360334257\n"
     ]
    },
    {
     "data": {
      "application/vnd.jupyter.widget-view+json": {
       "model_id": "396ddb3bd20646c380043a5e57a2e316",
       "version_major": 2,
       "version_minor": 0
      },
      "text/plain": [
       "  0%|          | 0/49997 [00:00<?, ?it/s]"
      ]
     },
     "metadata": {},
     "output_type": "display_data"
    },
    {
     "name": "stdout",
     "output_type": "stream",
     "text": [
      "test acc: 78.63871832309938%\n"
     ]
    }
   ],
   "source": [
    "# 6. Model Training\n",
    "\n",
    "loss_fnc = nn.CrossEntropyLoss().to(device)\n",
    "optimizer = optim.Adam(model.parameters(), lr=lr)\n",
    "\n",
    "model.train()\n",
    "tot_train_loss  = []\n",
    "for e in range(1, epochs+1):\n",
    "    train_loss = 0.0\n",
    "    for data, label in tqdm(train_dataloader):\n",
    "        data = data.to(device)\n",
    "        label = label.to(device)\n",
    "        optimizer.zero_grad()\n",
    "        output = model(data) #(batch_size, 2)\n",
    "        loss = loss_fnc(output, label)\n",
    "        loss.backward()\n",
    "        optimizer.step()\n",
    "        train_loss += loss.item()\n",
    "    tot_train_loss.append(train_loss/len(train_dataloader))\n",
    "    print(f\"epoch:{e}/{epochs} loss: {train_loss/len(train_dataloader):.9f}\")\n",
    "\n",
    "# 7. Model Testing\n",
    "\n",
    "with torch.no_grad():\n",
    "    model.eval()\n",
    "    test_acc = 0.0\n",
    "    for data, label in tqdm(test_dataloader):\n",
    "        data = data.to(device)\n",
    "        label = label.to(device)\n",
    "        output = model(data) #(batch, 2)\n",
    "        preds = torch.argmax(output, dim=1)\n",
    "        test_acc += preds.eq(label).sum().item()\n",
    "    print(f\"test acc: {test_acc/len(test_dataloader.dataset)*100}%\")\n",
    "\n",
    "# 기존과 동일    "
   ]
  }
 ],
 "metadata": {
  "kernelspec": {
   "display_name": "NewG",
   "language": "python",
   "name": "python3"
  },
  "language_info": {
   "codemirror_mode": {
    "name": "ipython",
    "version": 3
   },
   "file_extension": ".py",
   "mimetype": "text/x-python",
   "name": "python",
   "nbconvert_exporter": "python",
   "pygments_lexer": "ipython3",
   "version": "3.9.16"
  },
  "orig_nbformat": 4
 },
 "nbformat": 4,
 "nbformat_minor": 2
}
