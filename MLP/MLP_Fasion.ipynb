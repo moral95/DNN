{
 "cells": [
  {
   "attachments": {},
   "cell_type": "markdown",
   "metadata": {},
   "source": [
    "1. 라이브러리 설정\n",
    "2. GPU 설정\n",
    "3. HYPER PARAMETER 설정\n",
    "4. DATA 준비\n",
    "5. 모델 설계\n",
    "6. 모델 훈련\n",
    "7. 모델 검증"
   ]
  },
  {
   "cell_type": "code",
   "execution_count": 2,
   "metadata": {},
   "outputs": [],
   "source": [
    "# 1. 라이브러리 설정\n",
    "\n",
    "import torch\n",
    "import torch.nn as nn\n",
    "import torch.nn.functional as F\n",
    "import torch.optim as optim\n",
    "# optimizer 부르기\n",
    "from torchvision import datasets, transforms\n",
    "from MLP_model import MLP1, MLP2, MLP3, MLP4, MLP5, MLP6, MLP7\n",
    "# 전처리 단계 - transform(데이터 변환), datasets(데이터 부르기)\n",
    "import matplotlib.pyplot as plt\n",
    "# 그림 및 그래프 출력 방법\n",
    "from torch.utils.data import DataLoader\n",
    "# torch.utils.data에 저장된 dataloader 부르기 \n",
    "from tqdm.notebook import tqdm\n",
    "# 진행도를 확인하기 위해서 부르는 기능. 일반적으로 epoch에 사용되나, 다양한 상황의 진행상황을 보기 위해서 사용함.\n",
    "# epoch 진행 상태 외적으로 사용하는 것은 잘 모름(물론 상황에 맞춰 사용하겠지만, 코드에 맞추어 구현 방법 잘 모름)"
   ]
  },
  {
   "cell_type": "code",
   "execution_count": 3,
   "metadata": {},
   "outputs": [],
   "source": [
    "# 2. GPU 설정( 단일 )\n",
    "Device = torch.device('cuda:2' if torch.cuda.is_available() else 'cpu')\n",
    "# 2-1. GPU 병렬 설정\n"
   ]
  },
  {
   "cell_type": "code",
   "execution_count": 4,
   "metadata": {},
   "outputs": [
    {
     "name": "stdout",
     "output_type": "stream",
     "text": [
      "tensor([[ 0.0461,  0.4024, -1.0115]])\n",
      "tensor([[ 0.2167, -0.6123]])\n",
      "tensor([[0.5036]])\n",
      "tensor([], size=(1, 0))\n",
      "tensor([], size=(0, 3))\n",
      "tensor([[ 0.2310,  0.6931, -0.2669],\n",
      "        [ 2.1785,  0.1021, -0.2590]])\n",
      "tensor([[-0.1549, -1.3706, -0.1319,  0.8848],\n",
      "        [-0.2611,  0.6104, -0.0098, -1.4473]])\n"
     ]
    }
   ],
   "source": [
    "# 3. HyperParameter\n",
    "num_epochs = 10\n",
    "batch_size = 64\n",
    "lr = 1e-4\n",
    "n_class = 10\n",
    "\n",
    "# seed (고정)\n",
    "random_seed = 1234\n",
    "torch.manual_seed(random_seed)\n",
    "print(torch.randn(1,3))\n",
    "print(torch.randn(1,2))\n",
    "print(torch.randn(1,1))\n",
    "print(torch.randn(1,0))\n",
    "print(torch.randn(0,3))\n",
    "print(torch.randn(2,3))\n",
    "print(torch.randn(2,4))\n",
    "# tensor 행렬을 랜덤으로 어느 정도 사이즈로 뽑는 지 본다"
   ]
  },
  {
   "cell_type": "code",
   "execution_count": 5,
   "metadata": {},
   "outputs": [
    {
     "name": "stdout",
     "output_type": "stream",
     "text": [
      "5\n"
     ]
    },
    {
     "data": {
      "image/png": "[encoded data removed]",
      "text/plain": [
       "<Figure size 640x480 with 1 Axes>"
      ]
     },
     "metadata": {},
     "output_type": "display_data"
    }
   ],
   "source": [
    "# 데이터 전처리 ( 데이터를 다운 받고, 변환합니다. )\n",
    "train_dataset = datasets.MNIST('./data', train=True, download=True, transform=transforms.ToTensor())\n",
    "test_dataset = datasets.MNIST('./data', train=False, transform=transforms.ToTensor())\n",
    "# train_dataset = datasets.FashionMNIST('./data', train=True, download=True, transform=transform_train)\n",
    "# test_dataset = datasets.FashionMNIST('./data', train=False, transform=transform_test)\n",
    "\n",
    "\n",
    "# 위의 라이브러리를 보면 torchvision을 에서 datasets을 가져온다는 것을 알 수 있다. 그 datasets 중에서 MNIST 데이터를 가져온다는 것임.\n",
    "# 구글에 torchvison 라이브러리 뒤져보면, 불러올 수 있는 각 데이터셋 종류와 작성법에 대해 써져 있음.\n",
    "# 일반적으로 transform은 tranform 변수를 지정해서 다양한 list을 작성하는데, 이때 argumentation을 추가한다.\n",
    "# 여기서는 꼭 필요한 image를 ToTensor만 작성하였다. 아마 데이터셋이 이미지로 저장되어 있을 텐데, 이를 Tensor 형식으로 변환한다는 뜻이다.\n",
    "# 이를 train/test_dataset의 변수로 지정하였습니다.\n",
    "sample_data, label = train_dataset[0]\n",
    "# 샘플 데이터와 레이블을 분할. train_dataset은 그렇게 구성된 것으로 보임\n",
    "\n",
    "plt.imshow(sample_data.reshape((28,28)), cmap='gray')\n",
    "# plt.imshow(sample_data.reshape((28,28)), cmap='CMRmap')\n",
    "# plt.imshow(sample_data.reshape((32,32)), cmap='gray')\n",
    "# 이미지는 784이기때문에 다른 숫자를 입히면 출력이 되지 않는다. \n",
    "# 똑같은 명령어를 부르면 최하단의 명령어만 입힌다.\n",
    "# cmap로 다양한 색상을 부를 수 있지만, 단지 Classification이라면 색상 feature 찾기는 의미가 없다. 우리가 보고 싶은건 단지 검은 배경 숫자 확인이니까.\n",
    "print(label)"
   ]
  },
  {
   "cell_type": "code",
   "execution_count": 6,
   "metadata": {},
   "outputs": [
    {
     "name": "stdout",
     "output_type": "stream",
     "text": [
      "[Dataset] train : 60000, test : 10000\n",
      "[DataLoader] train : 938, test : 10000\n"
     ]
    }
   ],
   "source": [
    "# 데이터 loder (전처리된 데이터셋을 배치사이즈로 자르고, 섞는 등의 작업을 하는 변수를 지정합니다. )\n",
    "train_dataloader = DataLoader(train_dataset, batch_size=batch_size, shuffle = True)\n",
    "test_dataloader = DataLoader(test_dataset, batch_size=1, shuffle= False)\n",
    "\n",
    "# DataLoader(dataset, batch_size=1, shuffle=False, sampler=None,\n",
    "#            batch_sampler=None, num_workers=0, collate_fn=None,\n",
    "#            pin_memory=False, drop_last=False, timeout=0,\n",
    "#            worker_init_fn=None, *, prefetch_factor=2,\n",
    "#            persistent_workers=False)\n",
    "# 위는 torch.utils.data 안의 DataLoader 이다. 인터넷 찾아보면 바로 나온다.\n",
    "# 또한 위는 3개의 변수만을 사용합니다.\n",
    "# ??? 각 내용은 뭘 뜻하는지 제대로 뒤져보면 알겠지만, 지금은 모름. num_workers= gpu 안에 있는 연산자 개수인거 같은데...\n",
    "# ??? 몇 개인지, 어디서 확인하는 지 알 수 없음.\n",
    "\n",
    "print(f\"[Dataset] train : {len(train_dataset)}, test : {len(test_dataset)}\")\n",
    "# 데이터 셋의 개수를 알려준다.\n",
    "print(f\"[DataLoader] train : {len(train_dataloader)}, test : {len(test_dataloader)}\")\n",
    "# 데이터 로더 프린트인데... 배치가 64크기 이니 1 배치당 64개가 들어가서, 개수 = 데이터셋 전체 개수/(배치개수) 로 구성되어 있는 것을 출력\n",
    "# f 로 아마 전체 \"\" 안을 출력이 가능하는 것으로 본다. 그 안에 {}는 해당 안의 내용만 문자가 아닌 시스템 작동을 하는 것으로 보임"
   ]
  },
  {
   "cell_type": "code",
   "execution_count": 8,
   "metadata": {},
   "outputs": [],
   "source": [
    "# 모델 훈련, 검증\n",
    "\n",
    "loss_func = nn.CrossEntropyLoss()\n",
    "optimizer = optim.Adam(model.parameters(), lr=lr)\n",
    "# optimizer = optim.SGD(model.parameters(), lr=lr)\n",
    "\n",
    "\n",
    "epoch_train_loss = []\n",
    "epoch_test_loss = []\n",
    "epoch_train_acc = []\n",
    "epoch_test_acc = []\n",
    "\n",
    "# epoch_train/test_loss를 리스트 []형식으로 지정하였다. 마지막에 append로 train_loss/len(train_dataloader)를 넣었습니다.\n",
    "def run(model):\n",
    "    model = MLP1(n_class).to(Device)\n",
    "    print(model)\n",
    "    print(MLP1)\n",
    "    for e in range(1, num_epochs+1 ):\n",
    "        print(f\"============[EPOCHS] {e}/{num_epochs} =============\")\n",
    "    # train/test_loss를 사용하려 하면 먼저 정의를 해줘야하기에 loss를 0으로 만들었다.\n",
    "\n",
    "        #train\n",
    "        model.train()\n",
    "        train_loss = 0\n",
    "        train_acc = 0\n",
    "        for data, label in tqdm(train_dataloader):\n",
    "            data = data.to(Device)\n",
    "            label = label.to(Device)\n",
    "            output = model (data)\n",
    "            loss = loss_func(output, label)\n",
    "            train_loss += loss.item()\n",
    "            optimizer.zero_grad()\n",
    "            preds = torch.argmax(output, dim=1)\n",
    "            train_acc += preds.eq(label).sum()\n",
    "            loss.backward()\n",
    "            optimizer.step()\n",
    "        epoch_train_loss.append(train_loss/len(train_dataloader))\n",
    "        epoch_train_acc.append(train_acc/len(train_dataloader))\n",
    "        # print(f\"Train Loss: {train_loss/len(train_dataloader): .6f}\")\n",
    "        # print(f\"[Train RESULT] {(train_acc/len(train_dataloader))*(100/64): .3f}%\")\n",
    "\n",
    "    # data(image.Tensor), label를 device에 넣는다.\n",
    "    # loss_func(nn.Crossentropyloss)에 output(예측), label(정답, target) 두개를 넣어서 값을 출력한다.\n",
    "    # ???. nn.CrossLoss 안의 item을 추출해서 넣는다.( 정확히 뭐를 뽑는 지는 모르겠음 ), 매 에폭마다 더해서 넣어줌.\n",
    "    # optimzer를 일단 zero_grad써서 초기화를 하여 주어서 매 에폭마다 훈련시킨다.\n",
    "    # nn.CrossLoss 안의 backward 기능(함수)를 가져와서 진행한다.\n",
    "    # ???. optimizer(Adam)의 기능 step을 사용하여서 진행한다. (근데 step이 뭐지?)\n",
    "\n",
    "        with torch.no_grad(): # autograd 엔진 비활성화\n",
    "            model.eval() # dropout 비활성화 시켜줌\n",
    "            test_acc = 0.0\n",
    "            test_loss = 0\n",
    "            for data, label in tqdm(test_dataloader):\n",
    "                data = data.to(Device)\n",
    "                label = label.to(Device)\n",
    "                output = model(data)\n",
    "                loss = loss_func(output, label)\n",
    "                test_loss += loss.item()\n",
    "                preds = torch.argmax(output, dim=1)\n",
    "                test_acc += preds.eq(label).sum()\n",
    "        epoch_test_loss.append(test_loss/len(test_dataloader))\n",
    "        epoch_test_acc.append(test_acc/len(test_dataloader))\n",
    "        # print(f\"Test Loss: {test_loss/len(test_dataloader) : .6f}\")\n",
    "        # print(f\"[Test RESULT] {(test_acc/len(test_dataloader))*100: .3f}%\")\n",
    "    # torch.no_grad는 더이상 grad 는 하지 않는 것.\n",
    "    # preds= argmax(output, dim=1), argmax는 나온 결과 중 최대값 1개를 찾는 건데, 최대값이 몇번째인지를 찾는 것이다. dim=1은 1개로 나오는 거 일...듯하다\n",
    "    # test acc는 preds의 label의 위치가 같다면 그 개수를 더하는 것\n",
    "    plt.plot(epoch_train_loss, 'b')\n",
    "    plt.plot(epoch_test_loss,'r')\n",
    "    plt.xlabel('epoch')\n",
    "    plt.ylabel('loss')\n",
    "    plt.show()"
   ]
  },
  {
   "cell_type": "code",
   "execution_count": 11,
   "metadata": {},
   "outputs": [
    {
     "name": "stdout",
     "output_type": "stream",
     "text": [
      "MLP1(\n",
      "  (linear1): Linear(in_features=784, out_features=784, bias=True)\n",
      "  (linear2): Linear(in_features=784, out_features=512, bias=True)\n",
      "  (linear3): Linear(in_features=512, out_features=256, bias=True)\n",
      "  (linear4): Linear(in_features=256, out_features=256, bias=True)\n",
      "  (linear5): Linear(in_features=256, out_features=256, bias=True)\n",
      "  (linear6): Linear(in_features=256, out_features=256, bias=True)\n",
      "  (linear7): Linear(in_features=256, out_features=256, bias=True)\n",
      "  (classifier_layer): Linear(in_features=256, out_features=10, bias=True)\n",
      "  (softmax): Softmax(dim=1)\n",
      ")\n",
      "<class 'MLP_model.MLP1'>\n",
      "============[EPOCHS] 1/10 =============\n"
     ]
    },
    {
     "data": {
      "application/vnd.jupyter.widget-view+json": {
       "model_id": "38d81e28dfac4789b9b92adefb07177e",
       "version_major": 2,
       "version_minor": 0
      },
      "text/plain": [
       "  0%|          | 0/938 [00:00<?, ?it/s]"
      ]
     },
     "metadata": {},
     "output_type": "display_data"
    },
    {
     "data": {
      "application/vnd.jupyter.widget-view+json": {
       "model_id": "9426318fe1cc47b7a4d3096259a0d159",
       "version_major": 2,
       "version_minor": 0
      },
      "text/plain": [
       "  0%|          | 0/10000 [00:00<?, ?it/s]"
      ]
     },
     "metadata": {},
     "output_type": "display_data"
    },
    {
     "name": "stdout",
     "output_type": "stream",
     "text": [
      "============[EPOCHS] 2/10 =============\n"
     ]
    },
    {
     "data": {
      "application/vnd.jupyter.widget-view+json": {
       "model_id": "8e74aace7b74470cb89901264402c732",
       "version_major": 2,
       "version_minor": 0
      },
      "text/plain": [
       "  0%|          | 0/938 [00:00<?, ?it/s]"
      ]
     },
     "metadata": {},
     "output_type": "display_data"
    },
    {
     "ename": "KeyboardInterrupt",
     "evalue": "",
     "output_type": "error",
     "traceback": [
      "\u001b[0;31m---------------------------------------------------------------------------\u001b[0m",
      "\u001b[0;31mKeyboardInterrupt\u001b[0m                         Traceback (most recent call last)",
      "Cell \u001b[0;32mIn[11], line 1\u001b[0m\n\u001b[0;32m----> 1\u001b[0m run(MLP2)\n",
      "Cell \u001b[0;32mIn[8], line 26\u001b[0m, in \u001b[0;36mrun\u001b[0;34m(model)\u001b[0m\n\u001b[1;32m     24\u001b[0m train_loss \u001b[39m=\u001b[39m \u001b[39m0\u001b[39m\n\u001b[1;32m     25\u001b[0m train_acc \u001b[39m=\u001b[39m \u001b[39m0\u001b[39m\n\u001b[0;32m---> 26\u001b[0m \u001b[39mfor\u001b[39;00m data, label \u001b[39min\u001b[39;00m tqdm(train_dataloader):\n\u001b[1;32m     27\u001b[0m     data \u001b[39m=\u001b[39m data\u001b[39m.\u001b[39mto(Device)\n\u001b[1;32m     28\u001b[0m     label \u001b[39m=\u001b[39m label\u001b[39m.\u001b[39mto(Device)\n",
      "File \u001b[0;32m~/anaconda3/envs/NewG/lib/python3.9/site-packages/tqdm/notebook.py:254\u001b[0m, in \u001b[0;36mtqdm_notebook.__iter__\u001b[0;34m(self)\u001b[0m\n\u001b[1;32m    252\u001b[0m \u001b[39mtry\u001b[39;00m:\n\u001b[1;32m    253\u001b[0m     it \u001b[39m=\u001b[39m \u001b[39msuper\u001b[39m(tqdm_notebook, \u001b[39mself\u001b[39m)\u001b[39m.\u001b[39m\u001b[39m__iter__\u001b[39m()\n\u001b[0;32m--> 254\u001b[0m     \u001b[39mfor\u001b[39;00m obj \u001b[39min\u001b[39;00m it:\n\u001b[1;32m    255\u001b[0m         \u001b[39m# return super(tqdm...) will not catch exception\u001b[39;00m\n\u001b[1;32m    256\u001b[0m         \u001b[39myield\u001b[39;00m obj\n\u001b[1;32m    257\u001b[0m \u001b[39m# NB: except ... [ as ...] breaks IPython async KeyboardInterrupt\u001b[39;00m\n",
      "File \u001b[0;32m~/anaconda3/envs/NewG/lib/python3.9/site-packages/tqdm/std.py:1178\u001b[0m, in \u001b[0;36mtqdm.__iter__\u001b[0;34m(self)\u001b[0m\n\u001b[1;32m   1175\u001b[0m time \u001b[39m=\u001b[39m \u001b[39mself\u001b[39m\u001b[39m.\u001b[39m_time\n\u001b[1;32m   1177\u001b[0m \u001b[39mtry\u001b[39;00m:\n\u001b[0;32m-> 1178\u001b[0m     \u001b[39mfor\u001b[39;00m obj \u001b[39min\u001b[39;00m iterable:\n\u001b[1;32m   1179\u001b[0m         \u001b[39myield\u001b[39;00m obj\n\u001b[1;32m   1180\u001b[0m         \u001b[39m# Update and possibly print the progressbar.\u001b[39;00m\n\u001b[1;32m   1181\u001b[0m         \u001b[39m# Note: does not call self.update(1) for speed optimisation.\u001b[39;00m\n",
      "File \u001b[0;32m~/anaconda3/envs/NewG/lib/python3.9/site-packages/torch/utils/data/dataloader.py:633\u001b[0m, in \u001b[0;36m_BaseDataLoaderIter.__next__\u001b[0;34m(self)\u001b[0m\n\u001b[1;32m    630\u001b[0m \u001b[39mif\u001b[39;00m \u001b[39mself\u001b[39m\u001b[39m.\u001b[39m_sampler_iter \u001b[39mis\u001b[39;00m \u001b[39mNone\u001b[39;00m:\n\u001b[1;32m    631\u001b[0m     \u001b[39m# TODO(https://github.com/pytorch/pytorch/issues/76750)\u001b[39;00m\n\u001b[1;32m    632\u001b[0m     \u001b[39mself\u001b[39m\u001b[39m.\u001b[39m_reset()  \u001b[39m# type: ignore[call-arg]\u001b[39;00m\n\u001b[0;32m--> 633\u001b[0m data \u001b[39m=\u001b[39m \u001b[39mself\u001b[39;49m\u001b[39m.\u001b[39;49m_next_data()\n\u001b[1;32m    634\u001b[0m \u001b[39mself\u001b[39m\u001b[39m.\u001b[39m_num_yielded \u001b[39m+\u001b[39m\u001b[39m=\u001b[39m \u001b[39m1\u001b[39m\n\u001b[1;32m    635\u001b[0m \u001b[39mif\u001b[39;00m \u001b[39mself\u001b[39m\u001b[39m.\u001b[39m_dataset_kind \u001b[39m==\u001b[39m _DatasetKind\u001b[39m.\u001b[39mIterable \u001b[39mand\u001b[39;00m \\\n\u001b[1;32m    636\u001b[0m         \u001b[39mself\u001b[39m\u001b[39m.\u001b[39m_IterableDataset_len_called \u001b[39mis\u001b[39;00m \u001b[39mnot\u001b[39;00m \u001b[39mNone\u001b[39;00m \u001b[39mand\u001b[39;00m \\\n\u001b[1;32m    637\u001b[0m         \u001b[39mself\u001b[39m\u001b[39m.\u001b[39m_num_yielded \u001b[39m>\u001b[39m \u001b[39mself\u001b[39m\u001b[39m.\u001b[39m_IterableDataset_len_called:\n",
      "File \u001b[0;32m~/anaconda3/envs/NewG/lib/python3.9/site-packages/torch/utils/data/dataloader.py:677\u001b[0m, in \u001b[0;36m_SingleProcessDataLoaderIter._next_data\u001b[0;34m(self)\u001b[0m\n\u001b[1;32m    675\u001b[0m \u001b[39mdef\u001b[39;00m \u001b[39m_next_data\u001b[39m(\u001b[39mself\u001b[39m):\n\u001b[1;32m    676\u001b[0m     index \u001b[39m=\u001b[39m \u001b[39mself\u001b[39m\u001b[39m.\u001b[39m_next_index()  \u001b[39m# may raise StopIteration\u001b[39;00m\n\u001b[0;32m--> 677\u001b[0m     data \u001b[39m=\u001b[39m \u001b[39mself\u001b[39;49m\u001b[39m.\u001b[39;49m_dataset_fetcher\u001b[39m.\u001b[39;49mfetch(index)  \u001b[39m# may raise StopIteration\u001b[39;00m\n\u001b[1;32m    678\u001b[0m     \u001b[39mif\u001b[39;00m \u001b[39mself\u001b[39m\u001b[39m.\u001b[39m_pin_memory:\n\u001b[1;32m    679\u001b[0m         data \u001b[39m=\u001b[39m _utils\u001b[39m.\u001b[39mpin_memory\u001b[39m.\u001b[39mpin_memory(data, \u001b[39mself\u001b[39m\u001b[39m.\u001b[39m_pin_memory_device)\n",
      "File \u001b[0;32m~/anaconda3/envs/NewG/lib/python3.9/site-packages/torch/utils/data/_utils/fetch.py:51\u001b[0m, in \u001b[0;36m_MapDatasetFetcher.fetch\u001b[0;34m(self, possibly_batched_index)\u001b[0m\n\u001b[1;32m     49\u001b[0m         data \u001b[39m=\u001b[39m \u001b[39mself\u001b[39m\u001b[39m.\u001b[39mdataset\u001b[39m.\u001b[39m__getitems__(possibly_batched_index)\n\u001b[1;32m     50\u001b[0m     \u001b[39melse\u001b[39;00m:\n\u001b[0;32m---> 51\u001b[0m         data \u001b[39m=\u001b[39m [\u001b[39mself\u001b[39m\u001b[39m.\u001b[39mdataset[idx] \u001b[39mfor\u001b[39;00m idx \u001b[39min\u001b[39;00m possibly_batched_index]\n\u001b[1;32m     52\u001b[0m \u001b[39melse\u001b[39;00m:\n\u001b[1;32m     53\u001b[0m     data \u001b[39m=\u001b[39m \u001b[39mself\u001b[39m\u001b[39m.\u001b[39mdataset[possibly_batched_index]\n",
      "File \u001b[0;32m~/anaconda3/envs/NewG/lib/python3.9/site-packages/torch/utils/data/_utils/fetch.py:51\u001b[0m, in \u001b[0;36m<listcomp>\u001b[0;34m(.0)\u001b[0m\n\u001b[1;32m     49\u001b[0m         data \u001b[39m=\u001b[39m \u001b[39mself\u001b[39m\u001b[39m.\u001b[39mdataset\u001b[39m.\u001b[39m__getitems__(possibly_batched_index)\n\u001b[1;32m     50\u001b[0m     \u001b[39melse\u001b[39;00m:\n\u001b[0;32m---> 51\u001b[0m         data \u001b[39m=\u001b[39m [\u001b[39mself\u001b[39;49m\u001b[39m.\u001b[39;49mdataset[idx] \u001b[39mfor\u001b[39;00m idx \u001b[39min\u001b[39;00m possibly_batched_index]\n\u001b[1;32m     52\u001b[0m \u001b[39melse\u001b[39;00m:\n\u001b[1;32m     53\u001b[0m     data \u001b[39m=\u001b[39m \u001b[39mself\u001b[39m\u001b[39m.\u001b[39mdataset[possibly_batched_index]\n",
      "File \u001b[0;32m~/anaconda3/envs/NewG/lib/python3.9/site-packages/torchvision/datasets/mnist.py:145\u001b[0m, in \u001b[0;36mMNIST.__getitem__\u001b[0;34m(self, index)\u001b[0m\n\u001b[1;32m    142\u001b[0m img \u001b[39m=\u001b[39m Image\u001b[39m.\u001b[39mfromarray(img\u001b[39m.\u001b[39mnumpy(), mode\u001b[39m=\u001b[39m\u001b[39m\"\u001b[39m\u001b[39mL\u001b[39m\u001b[39m\"\u001b[39m)\n\u001b[1;32m    144\u001b[0m \u001b[39mif\u001b[39;00m \u001b[39mself\u001b[39m\u001b[39m.\u001b[39mtransform \u001b[39mis\u001b[39;00m \u001b[39mnot\u001b[39;00m \u001b[39mNone\u001b[39;00m:\n\u001b[0;32m--> 145\u001b[0m     img \u001b[39m=\u001b[39m \u001b[39mself\u001b[39;49m\u001b[39m.\u001b[39;49mtransform(img)\n\u001b[1;32m    147\u001b[0m \u001b[39mif\u001b[39;00m \u001b[39mself\u001b[39m\u001b[39m.\u001b[39mtarget_transform \u001b[39mis\u001b[39;00m \u001b[39mnot\u001b[39;00m \u001b[39mNone\u001b[39;00m:\n\u001b[1;32m    148\u001b[0m     target \u001b[39m=\u001b[39m \u001b[39mself\u001b[39m\u001b[39m.\u001b[39mtarget_transform(target)\n",
      "File \u001b[0;32m~/anaconda3/envs/NewG/lib/python3.9/site-packages/torchvision/transforms/transforms.py:137\u001b[0m, in \u001b[0;36mToTensor.__call__\u001b[0;34m(self, pic)\u001b[0m\n\u001b[1;32m    129\u001b[0m \u001b[39mdef\u001b[39;00m \u001b[39m__call__\u001b[39m(\u001b[39mself\u001b[39m, pic):\n\u001b[1;32m    130\u001b[0m \u001b[39m    \u001b[39m\u001b[39m\"\"\"\u001b[39;00m\n\u001b[1;32m    131\u001b[0m \u001b[39m    Args:\u001b[39;00m\n\u001b[1;32m    132\u001b[0m \u001b[39m        pic (PIL Image or numpy.ndarray): Image to be converted to tensor.\u001b[39;00m\n\u001b[0;32m   (...)\u001b[0m\n\u001b[1;32m    135\u001b[0m \u001b[39m        Tensor: Converted image.\u001b[39;00m\n\u001b[1;32m    136\u001b[0m \u001b[39m    \"\"\"\u001b[39;00m\n\u001b[0;32m--> 137\u001b[0m     \u001b[39mreturn\u001b[39;00m F\u001b[39m.\u001b[39;49mto_tensor(pic)\n",
      "File \u001b[0;32m~/anaconda3/envs/NewG/lib/python3.9/site-packages/torchvision/transforms/functional.py:174\u001b[0m, in \u001b[0;36mto_tensor\u001b[0;34m(pic)\u001b[0m\n\u001b[1;32m    172\u001b[0m img \u001b[39m=\u001b[39m img\u001b[39m.\u001b[39mpermute((\u001b[39m2\u001b[39m, \u001b[39m0\u001b[39m, \u001b[39m1\u001b[39m))\u001b[39m.\u001b[39mcontiguous()\n\u001b[1;32m    173\u001b[0m \u001b[39mif\u001b[39;00m \u001b[39misinstance\u001b[39m(img, torch\u001b[39m.\u001b[39mByteTensor):\n\u001b[0;32m--> 174\u001b[0m     \u001b[39mreturn\u001b[39;00m img\u001b[39m.\u001b[39;49mto(dtype\u001b[39m=\u001b[39;49mdefault_float_dtype)\u001b[39m.\u001b[39mdiv(\u001b[39m255\u001b[39m)\n\u001b[1;32m    175\u001b[0m \u001b[39melse\u001b[39;00m:\n\u001b[1;32m    176\u001b[0m     \u001b[39mreturn\u001b[39;00m img\n",
      "\u001b[0;31mKeyboardInterrupt\u001b[0m: "
     ]
    }
   ],
   "source": [
    "run(MLP2)"
   ]
  },
  {
   "cell_type": "code",
   "execution_count": 9,
   "metadata": {},
   "outputs": [],
   "source": [
    "# # plt.plot(epoch_train_loss, 'b')\n",
    "# # plt.plot(epoch_test_loss,'r')\n",
    "# plt.plot(epoch_train_acc, 'b')\n",
    "# plt.plot(epoch_test_acc,'r')\n",
    "# plt.xlabel('epoch')\n",
    "# plt.ylabel('acc')\n",
    "# plt.show()"
   ]
  },
  {
   "cell_type": "code",
   "execution_count": 10,
   "metadata": {},
   "outputs": [
    {
     "data": {
      "image/png": "[encoded data removed]",
      "text/plain": [
       "<Figure size 640x480 with 1 Axes>"
      ]
     },
     "metadata": {},
     "output_type": "display_data"
    }
   ],
   "source": [
    "plt.plot(epoch_train_loss, 'b')\n",
    "plt.plot(epoch_test_loss,'r')\n",
    "plt.xlabel('epoch')\n",
    "plt.ylabel('loss')\n",
    "plt.show()"
   ]
  }
 ],
 "metadata": {
  "kernelspec": {
   "display_name": "NewG",
   "language": "python",
   "name": "python3"
  },
  "language_info": {
   "codemirror_mode": {
    "name": "ipython",
    "version": 3
   },
   "file_extension": ".py",
   "mimetype": "text/x-python",
   "name": "python",
   "nbconvert_exporter": "python",
   "pygments_lexer": "ipython3",
   "version": "3.9.16"
  },
  "orig_nbformat": 4
 },
 "nbformat": 4,
 "nbformat_minor": 2
}
