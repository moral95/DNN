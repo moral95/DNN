{
 "cells": [
  {
   "attachments": {},
   "cell_type": "markdown",
   "metadata": {},
   "source": [
    "1. 라이브러리 설정\n",
    "2. GPU 설정\n",
    "3. HYPER PARAMETER 설정\n",
    "4. DATA 준비\n",
    "5. 모델 설계\n",
    "6. 모델 훈련\n",
    "7. 모델 검증"
   ]
  },
  {
   "cell_type": "code",
   "execution_count": 87,
   "metadata": {},
   "outputs": [],
   "source": [
    "# 라이브러리 설정\n",
    "from torchvision import datasets\n",
    "from torchvision import transforms\n",
    "\n",
    "import cv2\n",
    "import numpy as np\n",
    "from tqdm.notebook import tqdm\n",
    "import matplotlib.pyplot as plt\n",
    "\n",
    "import os\n",
    "import torch\n",
    "import torch.nn as nn\n",
    "import torch.optim as optim\n",
    "from torch.utils.data import Dataset, DataLoader\n",
    "from torch.utils.tensorboard import SummaryWriter"
   ]
  },
  {
   "cell_type": "code",
   "execution_count": 73,
   "metadata": {},
   "outputs": [],
   "source": [
    "# GPU 설정\n",
    "device = torch.device('cuda:2' if torch.cuda.is_available() else 'cpu')\n",
    "# 병렬 연결"
   ]
  },
  {
   "cell_type": "code",
   "execution_count": 74,
   "metadata": {},
   "outputs": [],
   "source": [
    "# Hyper parameter 설정\n",
    "num_epochs = 10\n",
    "batch_size = 128\n",
    "num_class = 10\n",
    "lr = 1e-4\n"
   ]
  },
  {
   "cell_type": "code",
   "execution_count": 75,
   "metadata": {},
   "outputs": [],
   "source": [
    "# Data 준비\n",
    "transform_train = transforms.Compose([transforms.ToTensor()])\n",
    "transform_test = transforms.Compose([transforms.ToTensor()])\n",
    "\n",
    "train_set = datasets.MNIST(root= './data', train=True, download=True, transform=transform_train)\n",
    "test_set = datasets.MNIST(root= './data', train=False, download=True, transform=transform_test)\n",
    "\n",
    "train_loader = DataLoader(train_set, batch_size = batch_size, shuffle=True)\n",
    "test_loader = DataLoader(test_set, batch_size=batch_size, shuffle=False)"
   ]
  },
  {
   "cell_type": "code",
   "execution_count": 76,
   "metadata": {},
   "outputs": [
    {
     "data": {
      "image/png": "[encoded data removed]",
      "text/plain": [
       "<Figure size 1000x1000 with 2 Axes>"
      ]
     },
     "metadata": {},
     "output_type": "display_data"
    }
   ],
   "source": [
    "# 이미지 샘플 출력\n",
    "plt.figure(figsize = (10,10))\n",
    "# 사진 사이즈 정의\n",
    "plt.subplot(1,2,1), plt.imshow(train_set[0][0].squeeze(), 'gray'), plt.title('Train data')\n",
    "plt.subplot(1,2,2), plt.imshow(test_set[0][0].squeeze(), 'gray'), plt.title('Test data')\n",
    "# subplot 사이즈(사이즈 위치, 배율, n번째), imshow(~몇번째 정하기)\n",
    "# sample 출력\n",
    "\n",
    "plt.show()"
   ]
  },
  {
   "cell_type": "code",
   "execution_count": 77,
   "metadata": {},
   "outputs": [],
   "source": [
    "# GPU 설정\n",
    "device = torch.device('cuda:2' if torch.cuda.is_available() else 'cpu')\n"
   ]
  },
  {
   "cell_type": "code",
   "execution_count": 78,
   "metadata": {},
   "outputs": [],
   "source": [
    "#모델 정의 \n",
    "class LeNet5(nn.Module):\n",
    "    #모델 구조 선언\n",
    "    def __init__(self, num_class):\n",
    "        super().__init__()\n",
    "        #Convolution Block\n",
    "        \n",
    "        self.backbone = nn.Sequential(nn.Conv2d(in_channels=1, out_channels=6, kernel_size=(5,5), stride=(1,1), padding=0, padding_mode='zeros'),\n",
    "                                      nn.Tanh(),\n",
    "                                      nn.MaxPool2d(kernel_size=(2, 2), stride=(2, 2), padding=0),\n",
    "                                      nn.Conv2d(in_channels=6, out_channels=16, kernel_size=(5, 5), stride=(1, 1), padding=0, padding_mode='zeros'), #인풋채널6\n",
    "                                      nn.Tanh(),\n",
    "                                      nn.MaxPool2d(kernel_size=(2, 2), stride=(2, 2), padding=0),\n",
    "                                      nn.Conv2d(in_channels=16, out_channels=120, kernel_size=(5, 5), stride=(1, 1), padding=0, padding_mode='zeros'), #백본끝\n",
    "                                      nn.Tanh()\n",
    "                                      )\n",
    "        # MNIST가 Gray 채널이라 in_channels가 1이다.\n",
    "        # in과 out을 맞추자. / kernel, stride, padding 등을 먹인다. padding mode 를 zeros로 해서 패딩을 걸어도 0으로 둔다.\n",
    "\n",
    "        #classifier\n",
    "        self.classifier = nn.Sequential(nn.Linear(in_features=120, out_features=84),\n",
    "                                        nn.Tanh(),\n",
    "                                        nn.Linear(in_features=84, out_features=num_class))\n",
    "        # classifier가 입력이 120인 게, conv out이 120이기 때문.\n",
    "\n",
    "    def forward(self, image):\n",
    "        feature = self.backbone(image)\n",
    "        feature - feature.view(feature.shape[0], -1) # 플랫튼과 비슷하다...? = 그럼 이 view는 flatten?\n",
    "        pred = self.classifier(feature)\n",
    "        return pred\n",
    "    \n",
    "    # mlp와 forward가 다르다.\n",
    "    # view의 -1은 동일하다.\n",
    "        # def forward(self,x):\n",
    "        # x = x.view(-1, 784)\n",
    "        # # print(x.view(2,784))\n",
    "        # x = torch.sigmoid(self.linear1(x))\n",
    "        # x = torch.sigmoid(self.linear2(x))\n",
    "        # x = torch.sigmoid(self.linear3(x))\n",
    "        # x = torch.sigmoid(self.linear4(x))\n",
    "        # x = torch.sigmoid(self.linear5(x))\n",
    "        # x = torch.sigmoid(self.linear6(x))\n",
    "        # x = torch.sigmoid(self.linear7(x))"
   ]
  },
  {
   "cell_type": "code",
   "execution_count": 79,
   "metadata": {},
   "outputs": [],
   "source": [
    "lenet5 = LeNet5(10).to(device)\n",
    "#lenet5 = LeNet5(num_class).to(device)\n"
   ]
  },
  {
   "cell_type": "code",
   "execution_count": 80,
   "metadata": {},
   "outputs": [],
   "source": [
    "# custom 모델 정의\n",
    "class MyModel(nn.Module):\n",
    "    def __init__(self, num_class):\n",
    "        super().__init__()\n",
    "        # 1st Conv. block\n",
    "        self.conv1_1 = nn.Conv2d(in_channels=1, out_channels=32, kernel_size=(3,3), stride=(1,1), padding=0, padding_mode='zeros')\n",
    "        self.conv1_2 = nn.Conv2d(in_channels=32, out_channels=32, kernel_size=(3, 3), stride=(1, 1), padding=0, padding_mode='zeros')\n",
    "        self.pool1 = nn.MaxPool2d(kernel_size=(2, 2), stride=(2, 2), padding=0)            \n",
    "\n",
    "        # 2nd Conv. block\n",
    "        self.conv2_1 = nn.Conv2d(in_channels=32, out_channels=64, kernel_size=(3, 3), stride=(1, 1), padding=0, padding_mode='zeros')\n",
    "        self.conv2_2 = nn.Conv2d(in_channels=64, out_channels=64, kernel_size=(3, 3), stride=(1, 1), padding=0, padding_mode='zeros')\n",
    "        self.pool2 = nn.MaxPool2d(kernel_size=(2, 2), stride=(2, 2), padding=0)\n",
    "\n",
    "        #classifier\n",
    "        self.classifier = nn.Linear(in_features=1024, out_features=num_class)\n",
    "        # linear 1개 정리\n",
    "\n",
    "    def forward(self, image):\n",
    "        # 1st Block\n",
    "        f1 = nn.ReLU()(self.conv1_1(image))\n",
    "        f1 = nn.ReLU()(self.conv1_2(f1))\n",
    "        f1 = self.pool1(f1)\n",
    "        # 이미지를 넣은 conv 레이어를 Relu에 넣고, 나온 것을 conv 레이어 넣고 풀링을 한다.\n",
    "        # conv - relu - conv - relu - pool\n",
    "\n",
    "        # 2nd Block\n",
    "        f2 = nn.ReLU()(self.conv2_1(f1))\n",
    "        f2 = nn.ReLU()(self.conv2_2(f2))\n",
    "        f2 =self.pool2(f2)\n",
    "        # 왜 ReLU는 () 밖에 init 변수를 넣고 있나요?\n",
    "\n",
    "\n",
    "        # Flatten\n",
    "        f2 = f2.view(f2.shape[0], -1)\n",
    "\n",
    "        #classifier\n",
    "        # pred = nn.Sigmoid()(self.classifier(f2))\n",
    "        pred = self.classifier(f2)\n",
    "        return pred\n",
    "        "
   ]
  },
  {
   "cell_type": "code",
   "execution_count": 81,
   "metadata": {},
   "outputs": [],
   "source": [
    "mymodel = MyModel(num_class=num_class).to(device)"
   ]
  },
  {
   "cell_type": "code",
   "execution_count": 82,
   "metadata": {},
   "outputs": [],
   "source": [
    "# 학습률 설정\n",
    "lr = 0.1\n",
    "\n",
    "# SGD\n",
    "optimizer = optim.SGD(mymodel.parameters(), lr=lr)\n",
    "\n",
    "# SGD with Momentum \n",
    "# optimizer = optim.SGD(mymodel.parameters(), lr=lr, momentum= 0.9)\n",
    "\n",
    "#RMSprop\n",
    "# optimizer = optim.RMSprop(mymodel.parameters(), lr=lr, alpha=0.99)\n",
    "\n",
    "#Adam\n",
    "# optimizer = optim.Adam(mymodel.parameters(), lr=lr, betas=(0.9, 0.999))\n",
    "\n",
    "#Cross Entropy Loss\n",
    "criterion = nn.CrossEntropyLoss().to(device)\n",
    "\n",
    "# 텐서보드 기록자 생성\n",
    "writer = SummaryWriter(f'log/mymodel') \n",
    "# 그래프에 따라 진행상황 볼 수 있음."
   ]
  },
  {
   "cell_type": "code",
   "execution_count": 90,
   "metadata": {},
   "outputs": [
    {
     "name": "stdout",
     "output_type": "stream",
     "text": [
      "Epoch 0:\n",
      "Training model...\n"
     ]
    },
    {
     "data": {
      "application/vnd.jupyter.widget-view+json": {
       "model_id": "342a71a7f8cb4f7a8b920824494410d8",
       "version_major": 2,
       "version_minor": 0
      },
      "text/plain": [
       "  0%|          | 0/469 [00:00<?, ?it/s]"
      ]
     },
     "metadata": {},
     "output_type": "display_data"
    },
    {
     "name": "stdout",
     "output_type": "stream",
     "text": [
      "Train Loss : 0.007255154235977405\n",
      "\n",
      "Evaluating model...\n"
     ]
    },
    {
     "data": {
      "application/vnd.jupyter.widget-view+json": {
       "model_id": "54be8a25a590478598b3c09ebc46ec9e",
       "version_major": 2,
       "version_minor": 0
      },
      "text/plain": [
       "  0%|          | 0/79 [00:00<?, ?it/s]"
      ]
     },
     "metadata": {},
     "output_type": "display_data"
    },
    {
     "name": "stdout",
     "output_type": "stream",
     "text": [
      "Test Loss: 0.041870419828663796\n",
      "Accuracy: 98.99%\n",
      "\n",
      "Saving model...\n",
      "\n",
      "Epoch 1:\n",
      "Training model...\n"
     ]
    },
    {
     "data": {
      "application/vnd.jupyter.widget-view+json": {
       "model_id": "1f719d60361849758c0826a35aa78b70",
       "version_major": 2,
       "version_minor": 0
      },
      "text/plain": [
       "  0%|          | 0/469 [00:00<?, ?it/s]"
      ]
     },
     "metadata": {},
     "output_type": "display_data"
    },
    {
     "name": "stdout",
     "output_type": "stream",
     "text": [
      "Train Loss : 0.007604808951519851\n",
      "\n",
      "Evaluating model...\n"
     ]
    },
    {
     "data": {
      "application/vnd.jupyter.widget-view+json": {
       "model_id": "119cf4c51bc24890bccf427d39f8fa1b",
       "version_major": 2,
       "version_minor": 0
      },
      "text/plain": [
       "  0%|          | 0/79 [00:00<?, ?it/s]"
      ]
     },
     "metadata": {},
     "output_type": "display_data"
    },
    {
     "name": "stdout",
     "output_type": "stream",
     "text": [
      "Test Loss: 0.04440490937984094\n",
      "Accuracy: 98.89%\n",
      "\n",
      "Epoch 2:\n",
      "Training model...\n"
     ]
    },
    {
     "data": {
      "application/vnd.jupyter.widget-view+json": {
       "model_id": "fbca4e48bf7e4ab594527be4a8ce6706",
       "version_major": 2,
       "version_minor": 0
      },
      "text/plain": [
       "  0%|          | 0/469 [00:00<?, ?it/s]"
      ]
     },
     "metadata": {},
     "output_type": "display_data"
    },
    {
     "name": "stdout",
     "output_type": "stream",
     "text": [
      "Train Loss : 0.0063267186073652\n",
      "\n",
      "Evaluating model...\n"
     ]
    },
    {
     "data": {
      "application/vnd.jupyter.widget-view+json": {
       "model_id": "2f8ad9d9f5eb46448d43a1a6bbe7fb16",
       "version_major": 2,
       "version_minor": 0
      },
      "text/plain": [
       "  0%|          | 0/79 [00:00<?, ?it/s]"
      ]
     },
     "metadata": {},
     "output_type": "display_data"
    },
    {
     "name": "stdout",
     "output_type": "stream",
     "text": [
      "Test Loss: 0.03930974969890612\n",
      "Accuracy: 99.05000000000001%\n",
      "\n",
      "Saving model...\n",
      "\n",
      "Epoch 3:\n",
      "Training model...\n"
     ]
    },
    {
     "data": {
      "application/vnd.jupyter.widget-view+json": {
       "model_id": "b5ac72a464c04ab5bfa6910fd34132f9",
       "version_major": 2,
       "version_minor": 0
      },
      "text/plain": [
       "  0%|          | 0/469 [00:00<?, ?it/s]"
      ]
     },
     "metadata": {},
     "output_type": "display_data"
    },
    {
     "name": "stdout",
     "output_type": "stream",
     "text": [
      "Train Loss : 0.006770569779239332\n",
      "\n",
      "Evaluating model...\n"
     ]
    },
    {
     "data": {
      "application/vnd.jupyter.widget-view+json": {
       "model_id": "f45c1a770ab6462b9f2dfaa8799aac4b",
       "version_major": 2,
       "version_minor": 0
      },
      "text/plain": [
       "  0%|          | 0/79 [00:00<?, ?it/s]"
      ]
     },
     "metadata": {},
     "output_type": "display_data"
    },
    {
     "name": "stdout",
     "output_type": "stream",
     "text": [
      "Test Loss: 0.054440689112449855\n",
      "Accuracy: 98.76%\n",
      "\n",
      "Epoch 4:\n",
      "Training model...\n"
     ]
    },
    {
     "data": {
      "application/vnd.jupyter.widget-view+json": {
       "model_id": "a5b8ea4a4a554a5dad36ceb40348614a",
       "version_major": 2,
       "version_minor": 0
      },
      "text/plain": [
       "  0%|          | 0/469 [00:00<?, ?it/s]"
      ]
     },
     "metadata": {},
     "output_type": "display_data"
    },
    {
     "name": "stdout",
     "output_type": "stream",
     "text": [
      "Train Loss : 0.004898958312756506\n",
      "\n",
      "Evaluating model...\n"
     ]
    },
    {
     "data": {
      "application/vnd.jupyter.widget-view+json": {
       "model_id": "225e9b4eba9542a7aa22d9fbe5160207",
       "version_major": 2,
       "version_minor": 0
      },
      "text/plain": [
       "  0%|          | 0/79 [00:00<?, ?it/s]"
      ]
     },
     "metadata": {},
     "output_type": "display_data"
    },
    {
     "name": "stdout",
     "output_type": "stream",
     "text": [
      "Test Loss: 0.04994040281716008\n",
      "Accuracy: 98.91%\n",
      "\n",
      "Epoch 5:\n",
      "Training model...\n"
     ]
    },
    {
     "data": {
      "application/vnd.jupyter.widget-view+json": {
       "model_id": "6cac18500fcd4bcfaee0855f4477cca5",
       "version_major": 2,
       "version_minor": 0
      },
      "text/plain": [
       "  0%|          | 0/469 [00:00<?, ?it/s]"
      ]
     },
     "metadata": {},
     "output_type": "display_data"
    },
    {
     "name": "stdout",
     "output_type": "stream",
     "text": [
      "Train Loss : 0.005751945395697402\n",
      "\n",
      "Evaluating model...\n"
     ]
    },
    {
     "data": {
      "application/vnd.jupyter.widget-view+json": {
       "model_id": "f8913b848b724cb9900a52d6d1c5a654",
       "version_major": 2,
       "version_minor": 0
      },
      "text/plain": [
       "  0%|          | 0/79 [00:00<?, ?it/s]"
      ]
     },
     "metadata": {},
     "output_type": "display_data"
    },
    {
     "name": "stdout",
     "output_type": "stream",
     "text": [
      "Test Loss: 0.04648364891074417\n",
      "Accuracy: 98.92999999999999%\n",
      "\n",
      "Epoch 6:\n",
      "Training model...\n"
     ]
    },
    {
     "data": {
      "application/vnd.jupyter.widget-view+json": {
       "model_id": "a60a4954a2e2430aadf67dc954227bab",
       "version_major": 2,
       "version_minor": 0
      },
      "text/plain": [
       "  0%|          | 0/469 [00:00<?, ?it/s]"
      ]
     },
     "metadata": {},
     "output_type": "display_data"
    },
    {
     "name": "stdout",
     "output_type": "stream",
     "text": [
      "Train Loss : 0.004784881681743907\n",
      "\n",
      "Evaluating model...\n"
     ]
    },
    {
     "data": {
      "application/vnd.jupyter.widget-view+json": {
       "model_id": "4502405b6270446eba7150d5c09c51cf",
       "version_major": 2,
       "version_minor": 0
      },
      "text/plain": [
       "  0%|          | 0/79 [00:00<?, ?it/s]"
      ]
     },
     "metadata": {},
     "output_type": "display_data"
    },
    {
     "name": "stdout",
     "output_type": "stream",
     "text": [
      "Test Loss: 0.043879165393593524\n",
      "Accuracy: 99.09%\n",
      "\n",
      "Epoch 7:\n",
      "Training model...\n"
     ]
    },
    {
     "data": {
      "application/vnd.jupyter.widget-view+json": {
       "model_id": "dcbf2f3896364040921ea268cfd14cd3",
       "version_major": 2,
       "version_minor": 0
      },
      "text/plain": [
       "  0%|          | 0/469 [00:00<?, ?it/s]"
      ]
     },
     "metadata": {},
     "output_type": "display_data"
    },
    {
     "name": "stdout",
     "output_type": "stream",
     "text": [
      "Train Loss : 0.0033662712008131874\n",
      "\n",
      "Evaluating model...\n"
     ]
    },
    {
     "data": {
      "application/vnd.jupyter.widget-view+json": {
       "model_id": "ddfd61b814884d609214525244d11a96",
       "version_major": 2,
       "version_minor": 0
      },
      "text/plain": [
       "  0%|          | 0/79 [00:00<?, ?it/s]"
      ]
     },
     "metadata": {},
     "output_type": "display_data"
    },
    {
     "name": "stdout",
     "output_type": "stream",
     "text": [
      "Test Loss: 0.05090349864217661\n",
      "Accuracy: 98.94%\n",
      "\n",
      "Epoch 8:\n",
      "Training model...\n"
     ]
    },
    {
     "data": {
      "application/vnd.jupyter.widget-view+json": {
       "model_id": "67698ae633fe4089a4c08b8bbc8d4952",
       "version_major": 2,
       "version_minor": 0
      },
      "text/plain": [
       "  0%|          | 0/469 [00:00<?, ?it/s]"
      ]
     },
     "metadata": {},
     "output_type": "display_data"
    },
    {
     "name": "stdout",
     "output_type": "stream",
     "text": [
      "Train Loss : 0.004360723517890711\n",
      "\n",
      "Evaluating model...\n"
     ]
    },
    {
     "data": {
      "application/vnd.jupyter.widget-view+json": {
       "model_id": "6739cc00eaa34b6eb98640eb94ea2ef1",
       "version_major": 2,
       "version_minor": 0
      },
      "text/plain": [
       "  0%|          | 0/79 [00:00<?, ?it/s]"
      ]
     },
     "metadata": {},
     "output_type": "display_data"
    },
    {
     "name": "stdout",
     "output_type": "stream",
     "text": [
      "Test Loss: 0.051118784498914\n",
      "Accuracy: 98.94%\n",
      "\n",
      "Epoch 9:\n",
      "Training model...\n"
     ]
    },
    {
     "data": {
      "application/vnd.jupyter.widget-view+json": {
       "model_id": "876de05b49b743a1a00fe3b13755a4d4",
       "version_major": 2,
       "version_minor": 0
      },
      "text/plain": [
       "  0%|          | 0/469 [00:00<?, ?it/s]"
      ]
     },
     "metadata": {},
     "output_type": "display_data"
    },
    {
     "name": "stdout",
     "output_type": "stream",
     "text": [
      "Train Loss : 0.004447185188373022\n",
      "\n",
      "Evaluating model...\n"
     ]
    },
    {
     "data": {
      "application/vnd.jupyter.widget-view+json": {
       "model_id": "0346d38441cf4e27973dedcada4e75df",
       "version_major": 2,
       "version_minor": 0
      },
      "text/plain": [
       "  0%|          | 0/79 [00:00<?, ?it/s]"
      ]
     },
     "metadata": {},
     "output_type": "display_data"
    },
    {
     "name": "stdout",
     "output_type": "stream",
     "text": [
      "Test Loss: 0.05668113831200836\n",
      "Accuracy: 98.89%\n",
      "\n"
     ]
    }
   ],
   "source": [
    "# 저장 위치 설정\n",
    "ckpt_path = './checkpoint'\n",
    "if not os.path.exists(ckpt_path):\n",
    "    os.makedirs(ckpt_path)\n",
    "\n",
    "# 최소 loss\n",
    "best_loss = 9999\n",
    "\n",
    "# 모델 학습 모드\n",
    "\n",
    "# 에폭만큼 반복\n",
    "for epoch in range(num_epochs):\n",
    "    print (f'Epoch {epoch}:')\n",
    "    mymodel.train() # drop out 작동\n",
    "    train_loss = 0\n",
    "\n",
    "    # 모델 학습\n",
    "    print(f'Training model...')\n",
    "\n",
    "    # dataloader를 통한 데이터 불러오기\n",
    "    for image, label in tqdm(train_loader):\n",
    "    # 데이터 연산 위치 지정 (GPU or CPU)\n",
    "        image = image.to(device)\n",
    "        label = label.to(device)\n",
    "        pred = mymodel(image)\n",
    "        loss = criterion(pred, label)\n",
    "        optimizer.zero_grad()\n",
    "        loss.backward()\n",
    "        optimizer.step()\n",
    "\n",
    "        # 최종 loss 누적\n",
    "        train_loss += loss.detach().cpu().numpy()\n",
    "        # train_loss += loss.item()\n",
    "    # 학습 loss 기록\n",
    "    train_loss /= len(train_loader)\n",
    "    writer.add_scalar(\"train_loss\", train_loss, epoch)\n",
    "    print(f'Train Loss : {train_loss}\\n')\n",
    "\n",
    "    ###### 모델 평가 ######\n",
    "    print(f'Evaluating model...')\n",
    "    accuracy = 0\n",
    "    test_loss = 0\n",
    "\n",
    "    # 모델 평가 모드\n",
    "    mymodel.eval()\n",
    "    # gradient 계산 차단\n",
    "    with torch.no_grad():\n",
    "    # Dataloader로 데이터 불러오기\n",
    "        for image, label in tqdm(test_loader): #tqdm 진행상황을 실시간으로 볼수있음. 남은반복횟수, 걸리는 시간 확인 가능\n",
    "            # 데이터 연산 위치 지정 (GPU or CPU)\n",
    "            image = image.to(device) #cpu 등을 올려놓는다\n",
    "            label = label.to(device)\n",
    "            # 모델에 입력 (순전파)\n",
    "            pred = mymodel(image)\n",
    "            # Loss 계산\n",
    "            loss = criterion(pred, label)\n",
    "            \n",
    "            # 최종 loss 누적\n",
    "            test_loss += loss.detach().cpu().numpy()\n",
    "            # 정답 개수 누적\n",
    "            corr = (pred.argmax(axis=1) == label).sum()\n",
    "            accuracy += corr.detach().cpu().numpy()\n",
    "\n",
    "    # 평가 loss 기록\n",
    "    test_loss /= len(test_loader)\n",
    "    writer.add_scalar(\"test_loss\", test_loss, epoch)\n",
    "    print(f'Test Loss: {test_loss}')\n",
    "    # 정확도 계산\n",
    "    accuracy /= len(test_set)\n",
    "    print(f'Accuracy: {100*accuracy}%\\n')\n",
    "    # 최소 loss가 갱신되면 모델 저장\n",
    "    if best_loss > test_loss:\n",
    "        print('Saving model...\\n')\n",
    "        best_loss = test_loss\n",
    "        torch.save(mymodel.state_dict(), os.path.join(ckpt_path, 'model.ckpt'))\n",
    "        \n",
    "\n"
   ]
  },
  {
   "cell_type": "code",
   "execution_count": null,
   "metadata": {},
   "outputs": [],
   "source": [
    "\n",
    "%load_ext tensorboard\n",
    "%tensorboard --logdir log"
   ]
  },
  {
   "cell_type": "code",
   "execution_count": 93,
   "metadata": {},
   "outputs": [],
   "source": [
    "# 계층별 feature 출력 함수\n",
    "def visualize_feature(image):\n",
    "  # 계층별 feature\n",
    "  f1 = mymodel.conv1_1(image)\n",
    "  f2 = mymodel.conv1_2(nn.ReLU()(f1))\n",
    "  f3 = mymodel.pool1(f2)\n",
    "  f4 = mymodel.conv2_1(f3)\n",
    "  f5 = mymodel.conv2_2(nn.ReLU()(f4))\n",
    "  f6 = mymodel.pool1(f5)\n",
    "\n",
    "  # image 출력\n",
    "  plt.figure(figsize=(3, 3))\n",
    "  plt.subplot(1, 1, 1), plt.title('image'), plt.imshow(image.squeeze().detach().cpu().numpy(), cmap='gray')\n",
    "  plt.show()\n",
    "\n",
    "  # f1 feature 출력\n",
    "  print('====== feature 1 ======')\n",
    "  print(f'f1 shape: {f1.shape}')\n",
    "  plt.figure(figsize=(20, 3))\n",
    "  for i in range(32):\n",
    "      plt.subplot(2, 16, i+1), plt.imshow(f1[i].squeeze().detach().cpu().numpy(), cmap='gray'), plt.xticks([]), plt.yticks([])\n",
    "  plt.show()\n",
    "\n",
    "  # f1 feature 출력\n",
    "  print('====== feature 3 ======')\n",
    "  print(f'f3 shape: {f3.shape}')\n",
    "  plt.figure(figsize=(20, 3))\n",
    "  for i in range(32):\n",
    "      plt.subplot(2, 16, i+1), plt.imshow(f3[i].squeeze().detach().cpu().numpy(), cmap='gray'), plt.xticks([]), plt.yticks([])\n",
    "  plt.show()\n",
    "\n",
    "  # f1 feature 출력\n",
    "  print('====== feature 6 ======')\n",
    "  print(f'f6 shape: {f6.shape}')\n",
    "  plt.figure(figsize=(20, 5))\n",
    "  for i in range(64):\n",
    "      plt.subplot(4, 16, i+1), plt.imshow(f6[i].squeeze().detach().cpu().numpy(), cmap='gray'), plt.xticks([]), plt.yticks([])\n",
    "  plt.show()"
   ]
  },
  {
   "cell_type": "code",
   "execution_count": 94,
   "metadata": {},
   "outputs": [
    {
     "data": {
      "image/png": "[encoded data removed]",
      "text/plain": [
       "<Figure size 300x300 with 1 Axes>"
      ]
     },
     "metadata": {},
     "output_type": "display_data"
    },
    {
     "name": "stdout",
     "output_type": "stream",
     "text": [
      "====== feature 1 ======\n",
      "f1 shape: torch.Size([32, 26, 26])\n"
     ]
    },
    {
     "data": {
      "image/png": "[encoded data removed]",
      "text/plain": [
       "<Figure size 2000x300 with 32 Axes>"
      ]
     },
     "metadata": {},
     "output_type": "display_data"
    },
    {
     "name": "stdout",
     "output_type": "stream",
     "text": [
      "====== feature 3 ======\n",
      "f3 shape: torch.Size([32, 12, 12])\n"
     ]
    },
    {
     "data": {
      "image/png": "[encoded data removed]",
      "text/plain": [
       "<Figure size 2000x300 with 32 Axes>"
      ]
     },
     "metadata": {},
     "output_type": "display_data"
    },
    {
     "name": "stdout",
     "output_type": "stream",
     "text": [
      "====== feature 6 ======\n",
      "f6 shape: torch.Size([64, 4, 4])\n"
     ]
    },
    {
     "data": {
      "image/png": "[encoded data removed]",
      "text/plain": [
       "<Figure size 2000x500 with 64 Axes>"
      ]
     },
     "metadata": {},
     "output_type": "display_data"
    }
   ],
   "source": [
    "image = test_set.data[1].unsqueeze(0).type(torch.FloatTensor).to(device)\n",
    "visualize_feature(image)"
   ]
  },
  {
   "cell_type": "code",
   "execution_count": null,
   "metadata": {},
   "outputs": [],
   "source": []
  }
 ],
 "metadata": {
  "kernelspec": {
   "display_name": "NewG",
   "language": "python",
   "name": "python3"
  },
  "language_info": {
   "codemirror_mode": {
    "name": "ipython",
    "version": 3
   },
   "file_extension": ".py",
   "mimetype": "text/x-python",
   "name": "python",
   "nbconvert_exporter": "python",
   "pygments_lexer": "ipython3",
   "version": "3.9.16"
  },
  "orig_nbformat": 4
 },
 "nbformat": 4,
 "nbformat_minor": 2
}
